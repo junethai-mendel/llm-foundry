{
 "cells": [
  {
   "cell_type": "markdown",
   "metadata": {
    "application/vnd.databricks.v1+cell": {
     "cellMetadata": {},
     "inputWidgets": {},
     "nuid": "ffa0cc68-51c2-42ab-b3de-66e7387d12fd",
     "showTitle": false,
     "title": ""
    }
   },
   "source": [
    "# Foundation Model Training API: Data validation and \\$token estimation\n",
    "\n",
    "This notebook illustrates the Databricks Foundation Model Training API. You can use this notebook to confirm that your data is in the correct format for training. This notebook can also help you estimate costs for the training process.\n",
    "\n",
    "This notebook should not be used as part of the training process. Instead, you can run it before starting training to validate your data and help estimate the cost of the training tasks.\n",
    "\n",
    "The inputs to this validation script are the same as the arguments to the Foundation Model Training API, shown below. \n",
    "```\n",
    "cfg = {\n",
    "    model: str,\n",
    "    train_data_path: str,\n",
    "    save_folder: str,\n",
    "    *,\n",
    "    task_type: Optional[str] = \"INSTRUCTION_FINETUNE\",\n",
    "    eval_data_path: Optional[str] = None,\n",
    "    eval_prompts: Optional[List[str]] = None,\n",
    "    custom_weights_path: Optional[str] = None,\n",
    "    training_duration: Optional[str] = None,\n",
    "    learning_rate: Optional[float] = None,\n",
    "    context_length: Optional[int] = None,\n",
    "    experiment_trackers: Optional[List[Dict]] = None,\n",
    "    disable_credentials_check: Optional[bool] = None,\n",
    "    timeout: Optional[float] = 10,\n",
    "    future: Literal[False] = False,\n",
    "}\n",
    "``` "
   ]
  },
  {
   "cell_type": "markdown",
   "metadata": {
    "application/vnd.databricks.v1+cell": {
     "cellMetadata": {},
     "inputWidgets": {},
     "nuid": "d5cc20be-8228-46bf-9fa9-e81f403a79fa",
     "showTitle": false,
     "title": ""
    }
   },
   "source": [
    "## Installation"
   ]
  },
  {
   "cell_type": "code",
   "execution_count": null,
   "metadata": {
    "application/vnd.databricks.v1+cell": {
     "cellMetadata": {},
     "inputWidgets": {},
     "nuid": "e28bd4c4-c618-49f7-99f5-ac26fe098d66",
     "showTitle": false,
     "title": ""
    }
   },
   "outputs": [],
   "source": [
    "%pip uninstall -y llm-foundry"
   ]
  },
  {
   "cell_type": "code",
   "execution_count": null,
   "metadata": {
    "application/vnd.databricks.v1+cell": {
     "cellMetadata": {},
     "inputWidgets": {},
     "nuid": "77503945-9851-4a2a-a396-e8fe0ed69415",
     "showTitle": false,
     "title": ""
    }
   },
   "outputs": [],
   "source": [
    "dbutils.library.restartPython()"
   ]
  },
  {
   "cell_type": "code",
   "execution_count": null,
   "metadata": {
    "application/vnd.databricks.v1+cell": {
     "cellMetadata": {},
     "inputWidgets": {},
     "nuid": "da4711d5-958b-4c8a-a8c0-04515f0e7a42",
     "showTitle": false,
     "title": ""
    }
   },
   "outputs": [],
   "source": [
    "%pip install --upgrade --no-deps git+https://github.com/mosaicml/llm-foundry.git@byod/data_validation\n",
    "%pip install 'mosaicml[libcloud,wandb,oci,gcs]>=0.20.1,<0.21'\n",
    "%pip install 'mlflow>=2.10,<3'\n",
    "%pip install 'transformers>=4.38.2,<4.39'\n",
    "%pip install \"mosaicml-streaming>=0.7.4,<0.8\"\n",
    "%pip install -U datasets\n",
    "%pip install omegaconf\n",
    "%pip install einops\n",
    "%pip install sentencepiece"
   ]
  },
  {
   "cell_type": "code",
   "execution_count": null,
   "metadata": {
    "application/vnd.databricks.v1+cell": {
     "cellMetadata": {},
     "inputWidgets": {},
     "nuid": "4ec9b204-5712-451d-8d16-c3809be4dbdd",
     "showTitle": false,
     "title": ""
    }
   },
   "outputs": [],
   "source": [
    "dbutils.library.restartPython()"
   ]
  },
  {
   "cell_type": "code",
   "execution_count": null,
   "metadata": {
    "application/vnd.databricks.v1+cell": {
     "cellMetadata": {},
     "inputWidgets": {},
     "nuid": "15eb93bf-a379-4500-9bc5-5f3dd17164da",
     "showTitle": false,
     "title": ""
    }
   },
   "outputs": [],
   "source": [
    "import os\n",
    "import re\n",
    "import json\n",
    "import tempfile\n",
    "import random\n",
    "import numpy as np\n",
    "import pandas as pd \n",
    "from collections import defaultdict\n",
    "from argparse import ArgumentParser, Namespace\n",
    "from typing import cast \n",
    "\n",
    "import datasets \n",
    "\n",
    "from llmfoundry.utils import (create_om_cfg, token_counts_with_collate, token_counts, \n",
    "        check_HF_datasets, is_hf_dataset_path, is_uc_delta_table,\n",
    "        pandas_processing_fn, integrity_check, convert_text_to_mds, parse_args, \n",
    "        _args_str, plot_hist, dataframe_to_mds)\n",
    "\n",
    "from llmfoundry.data.finetuning.tasks import (_validate_chat_formatted_example,\n",
    "                                              _validate_prompt_response_formatted_example,\n",
    "                                              _get_example_type, ChatFormattedDict, PromptResponseDict )\n",
    "import transformers\n",
    "transformers.logging.set_verbosity_error()"
   ]
  },
  {
   "cell_type": "markdown",
   "metadata": {
    "application/vnd.databricks.v1+cell": {
     "cellMetadata": {},
     "inputWidgets": {},
     "nuid": "2f3e4cf4-51d7-4ab6-8dbe-6febd9b6d734",
     "showTitle": false,
     "title": ""
    }
   },
   "source": [
    "## Instruction fine tuning"
   ]
  },
  {
   "cell_type": "markdown",
   "metadata": {
    "application/vnd.databricks.v1+cell": {
     "cellMetadata": {},
     "inputWidgets": {},
     "nuid": "cb776730-738e-4dbb-9d58-7a0f9b84fc2e",
     "showTitle": false,
     "title": ""
    }
   },
   "source": [
    "### Foundation Model Training API arguments configuration\n",
    "\n",
    "This section of the notebook is dedicated to setting up the parameters for the validation notebook. These parameters should be identical to what you specify in Foundation Model Training API. \n",
    "\n",
    "**Foundation Model Training API Arguments (FMT_API_args):**\n",
    "\n",
    "- model: The model to be used for training. For example, 'EleutherAI/gpt-neox-20b'\n",
    "- train_data_path: The path to the training data. It can be a Hugging Face dataset, a path to a `jsonl` file, or a Delta table.\n",
    "- task_type: The type of task, either 'INSTRUCTION_FINETUNE' or 'CONTINUED_PRETRAIN'.\n",
    "- training_duration: The number of epochs to run for the training process.\n",
    "- context_length: The context length of the model, set to 2048. This is the number of tokens that the model considers for each training example.\n",
    "\n",
    "**Temporary Data Path Configuration:**\n",
    "\n",
    "- temporary_jsonl_data_path: Defines a filesystem path where temporary data related to the training process is stored. You need to make sure the path is not shared by other users on the cluster, as it costs contention.\n",
    "- Environment variables for Hugging Face caches (HF_DATASETS_CACHE) are set to '/tmp/', directing dataset caching to a temporary directory.\n",
    "\n",
    "**[Models supported by the Foundation Model Training API](https://docs.mosaicml.com/projects/mcli/en/latest/finetuning/finetuning.html#supported-models):**. \n",
    "\n",
    "You need to specify context length based on the model mapping below.\n",
    "```\n",
    "ft_models = {\n",
    "  'meta-llama/Llama-2-13b-hf': 4096,\n",
    "  'meta-llama/Llama-2-7b-hf': 4096,\n",
    "  'meta-llama/Llama-2-70b-hf': 4096,\n",
    "  'codellama/CodeLlama-7b-hf': 16384,\n",
    "  'codellama/CodeLlama-13b-hf': 16384,\n",
    "  'codellama/CodeLlama-34b-hf': 16384,\n",
    "  'mistralai/Mistral-7B-v0.1': 32768,\n",
    "}\n",
    "```"
   ]
  },
  {
   "cell_type": "code",
   "execution_count": null,
   "metadata": {
    "application/vnd.databricks.v1+cell": {
     "cellMetadata": {},
     "inputWidgets": {},
     "nuid": "809d890e-16c6-4728-a7bd-b9b6a53b097d",
     "showTitle": false,
     "title": ""
    }
   },
   "outputs": [],
   "source": [
    "# Make sure you have write access to the ``home`` directory\n",
    "home = os.path.join('/local_disk0', 'ift')\n",
    "os.makedirs(home, exist_ok=True)\n",
    "os.chdir(home)"
   ]
  },
  {
   "cell_type": "code",
   "execution_count": null,
   "metadata": {
    "application/vnd.databricks.v1+cell": {
     "cellMetadata": {},
     "inputWidgets": {},
     "nuid": "90ca40c8-d879-4068-88d2-4fa64082536c",
     "showTitle": false,
     "title": ""
    }
   },
   "outputs": [],
   "source": [
    "FMT_API_args = Namespace(\n",
    "    model= 'meta-llama/Llama-2-7b-chat-hf', # Other examples: 'EleutherAI/gpt-neox-20b',\n",
    "    train_data_path= 'mosaicml/dolly_hhrlhf/train',  # Other examples: '/path/to/train.jsonl', 'catalog.schema.table', 'iamroot/chat_formatted_examples/train', \n",
    "    task_type='INSTRUCTION_FINETUNE',\n",
    "    training_duration=3,\n",
    "    context_length=2048,\n",
    ")\n",
    "\n",
    "temporary_jsonl_data_path = os.path.join(home, 'ft_data_11Jan24_3/train')\n",
    "os.environ['HF_DATASETS_CACHE'] = os.path.join(home, 'hf_cache')\n",
    "os.makedirs(temporary_jsonl_data_path, exist_ok=True)\n",
    "os.makedirs(os.environ['HF_DATASETS_CACHE'], exist_ok=True)"
   ]
  },
  {
   "cell_type": "markdown",
   "metadata": {
    "application/vnd.databricks.v1+cell": {
     "cellMetadata": {},
     "inputWidgets": {},
     "nuid": "d4106cc5-2bc3-467f-9260-19f132f601e3",
     "showTitle": false,
     "title": ""
    }
   },
   "source": [
    "### Data loading\n",
    "\n",
    "The instruction fine-tuning data requires the following format:\n",
    "\n",
    "```\n",
    "prompt: xxx\n",
    "response or completion: yyy\n",
    "```\n",
    "\n",
    "Based on FMT_API_args.train_data_path, we select an ingestion method from one of the three options below:\n",
    "\n",
    "- Option 1. Data is a JSONL file which stores in an object store supported by Composer.\n",
    "- Option 2. Data is a Hugging Face dataset ID. Note you need to provide a split as well. \n",
    "- Option 3. Data is a Delta table. "
   ]
  },
  {
   "cell_type": "code",
   "execution_count": null,
   "metadata": {
    "application/vnd.databricks.v1+cell": {
     "cellMetadata": {},
     "inputWidgets": {},
     "nuid": "3ae0e2b0-349d-4485-bed1-1de1433391fb",
     "showTitle": false,
     "title": ""
    }
   },
   "outputs": [],
   "source": [
    "raw_dataset = None\n",
    "\n",
    "if is_hf_dataset_path(FMT_API_args.train_data_path):\n",
    "    check_HF_datasets(FMT_API_args.train_data_path)\n",
    "    dataset_id, split = '/'.join(FMT_API_args.train_data_path.split('/')[:2]), FMT_API_args.train_data_path.split('/')[-1]    \n",
    "    raw_dataset = datasets.load_dataset(dataset_id, split=split)       \n",
    "else:\n",
    "    if is_uc_delta_table(FMT_API_args.train_data_path):    \n",
    "        df = spark.read.table(FMT_API_args.train_data_path).toPandas()\n",
    "        df.to_json(os.path.join(temporary_jsonl_data_path, 'data.jsonl'), orient='records', lines=True)\n",
    "        raw_dataset = datasets.Dataset.from_pandas(df) \n",
    "        FMT_API_args.train_data_path = temporary_jsonl_data_path\n",
    "    else: \n",
    "        # train_data_path is a jsonl file (local/remote)\n",
    "        from composer.utils import dist, get_file, parse_uri \n",
    "        data_path = FMT_API_args.train_data_path \n",
    "        backend, _, _ = parse_uri(data_path)\n",
    "        if backend not in ['', None]: # It's a remote path, download before loading it\n",
    "            with tempfile.TemporaryDirectory() as tmp_dir:\n",
    "                destination = os.path.join(tmp_dir, 'data.jsonl')\n",
    "                get_file(data_path, destination)\n",
    "                df = pd.read_json(destination, orient='records', lines=True)    \n",
    "        else: \n",
    "            df = pd.read_json(data_path, orient='records', lines=True)    \n",
    "\n",
    "        raw_dataset = datasets.Dataset.from_pandas(df)\n",
    "        FMT_API_args.train_data_path = os.path.dirname(data_path)\n",
    "\n",
    "if raw_dataset is None: \n",
    "    raise RuntimeError(\"Can't find a proper ingestion method\")"
   ]
  },
  {
   "cell_type": "markdown",
   "metadata": {
    "application/vnd.databricks.v1+cell": {
     "cellMetadata": {},
     "inputWidgets": {},
     "nuid": "f2beb1db-77f7-4747-8713-2dfd74dbd6ee",
     "showTitle": false,
     "title": ""
    }
   },
   "source": [
    "### Data quality checks on the dataset"
   ]
  },
  {
   "cell_type": "markdown",
   "metadata": {
    "application/vnd.databricks.v1+cell": {
     "cellMetadata": {},
     "inputWidgets": {},
     "nuid": "9d671dbf-675f-4fa9-972f-4f58afef2700",
     "showTitle": false,
     "title": ""
    }
   },
   "source": [
    "\n",
    "This section of the notebook performs a series of checks on the initial dataset to ensure its quality and expected format. This process ensures that the dataset adheres to the expected structure and contains the necessary keys for further processing. The checks are outlined below.\n",
    "\n",
    "1. The total number of examples in the dataset is printed.\n",
    "2. The first example from the dataset is displayed. This provides a quick glimpse into the data structure and format.\n",
    "3. Data format validation:\n",
    "- The dataset is expected to consist of dictionary-like objects (key-value pairs). A check is performed to validate this structure.\n",
    "Each example in the dataset is examined for its compliance with the expected format.\n",
    "4. Key presence validation:\n",
    "- Allowed prompt and response keys, chat roles are defined in [llmfoundry](https://github.com/mosaicml/llm-foundry/blob/main/llmfoundry/data/finetuning/tasks.py): _ALLOWED_RESPONSE_KEYS and _ALLOWED_PROMPT_KEYS and _ALLOWED_ROLES.\n",
    "- For prompt response dataset, the script checks for the presence of at least one prompt key and one response key in each example.\n",
    "  - Prompt Validation: Each example is checked for the presence of keys defined in _ALLOWED_PROMPT_KEYS. If no valid prompt key is found, it is counted as a format error. \n",
    "  - Response Validation: Similarly, each example is checked for the presence of keys defined in _ALLOWED_RESPONSE_KEYS. An absence of a valid response key is also counted as a format error.\n",
    "- For chat formatted dataset, the script checks if the message content is formatted valid by calling [_validate_chat_formatted_example](https://github.com/mosaicml/llm-foundry/blob/cffd75e94e5c53b1b14c67cd17e0916fecfd0e16/llmfoundry/data/finetuning/tasks.py#L130) helper function.  \n",
    "\n",
    "Error Reporting:\n",
    "\n",
    "If any format errors are found during the checks, they are reported.\n",
    "A summary of errors is printed, categorizing them into types like data_type (non-dictionary data), missing_prompt, and missing_response.\n",
    "If no errors are found, a congratulatory message is displayed, indicating that all checks have passed successfully."
   ]
  },
  {
   "cell_type": "code",
   "execution_count": null,
   "metadata": {
    "application/vnd.databricks.v1+cell": {
     "cellMetadata": {},
     "inputWidgets": {},
     "nuid": "62d1645c-c2ab-4de7-a72d-cd4a4cf349ae",
     "showTitle": false,
     "title": ""
    }
   },
   "outputs": [],
   "source": [
    "# Initial dataset stats\n",
    "print(\"Num examples:\", len(raw_dataset))\n",
    "print(\"First example:\")\n",
    "for ex in raw_dataset: \n",
    "    print(ex)\n",
    "    print() \n",
    "    break \n",
    "\n",
    "format_errors = defaultdict(int)\n",
    "\n",
    "for example in raw_dataset:\n",
    "    try: \n",
    "        example_format = _get_example_type(ex)\n",
    "    except ValueError:\n",
    "        format_errors[\"unknown example type\"] += 1 \n",
    "        continue \n",
    "\n",
    "    if example_format == 'chat':\n",
    "        try: \n",
    "            chat_example = cast(ChatFormattedDict, example)\n",
    "            _validate_chat_formatted_example(chat_example)\n",
    "        except Exception as e:             \n",
    "            format_errors['chat_format_error'] += 1  \n",
    "            print(e)\n",
    "            break \n",
    "\n",
    "    elif example_format == 'prompt_response':\n",
    "        try:\n",
    "            prompt_response_example: PromptResponseDict = cast(\n",
    "                PromptResponseDict, example)\n",
    "            _validate_prompt_response_formatted_example(prompt_response_example)\n",
    "        except Exception as e: \n",
    "            format_errors['prompt_response_format_error'] += 1  \n",
    "            print(e)\n",
    "            break \n",
    "        \n",
    "if format_errors:\n",
    "    print(\"Oops! Found errors:\")\n",
    "    for k, v in format_errors.items():\n",
    "        print(f\"{k}: {v}\")\n",
    "else:\n",
    "    print(\"Congratulations! No errors found\")    "
   ]
  },
  {
   "cell_type": "markdown",
   "metadata": {
    "application/vnd.databricks.v1+cell": {
     "cellMetadata": {},
     "inputWidgets": {},
     "nuid": "ae5a4bd2-6e23-41f0-beba-f4f1785cba13",
     "showTitle": false,
     "title": ""
    }
   },
   "source": [
    "### Token estimation\n",
    "\n",
    "Tokenize the raw dataset, calculate some statistics of the tokens, and estimate the overall cost based on default trainining duration\n",
    "We will iterate over the dataloader and sum the number of tokens from each batch. "
   ]
  },
  {
   "cell_type": "code",
   "execution_count": null,
   "metadata": {
    "application/vnd.databricks.v1+cell": {
     "cellMetadata": {},
     "inputWidgets": {},
     "nuid": "7a8f3a2a-dbe3-4432-b352-d09c645e433b",
     "showTitle": false,
     "title": ""
    }
   },
   "outputs": [],
   "source": [
    "n_epochs = FMT_API_args.training_duration if FMT_API_args.training_duration is not None else 1 \n",
    "batch_tokens = token_counts_with_collate(FMMT_API_args)\n",
    "n_billing_tokens_in_dataset = sum(batch_tokens['ntokens'])"
   ]
  },
  {
   "cell_type": "markdown",
   "metadata": {
    "application/vnd.databricks.v1+cell": {
     "cellMetadata": {},
     "inputWidgets": {},
     "nuid": "9fd40f3d-f586-40ad-ad40-990b48a962fe",
     "showTitle": false,
     "title": ""
    }
   },
   "source": [
    "The Foundation Model Training API internally ingests the dataset and runs tokenization with the selected tokenizer. \n",
    "The output dataset is a collection of samples. Each sample is a collection of token ids represented as integers.  \n",
    "We generate a histogram that visualizes the distribution of frequency of token counts in samples in the dataset. \n",
    "The visualization aids in identifying patterns, outliers, and central tendencies in the token distribution."
   ]
  },
  {
   "cell_type": "code",
   "execution_count": null,
   "metadata": {
    "application/vnd.databricks.v1+cell": {
     "cellMetadata": {},
     "inputWidgets": {},
     "nuid": "d3f0f973-2503-4881-8950-e130791fd8c2",
     "showTitle": false,
     "title": ""
    }
   },
   "outputs": [],
   "source": [
    "print(f\"Dataset has ~{n_billing_tokens_in_dataset} tokens that will be used by the model during training\")\n",
    "print(f\"Assume you'll train for {n_epochs} epochs on this dataset\")\n",
    "print(f\"Then ~{n_epochs * n_billing_tokens_in_dataset} tokens will be running through the model during training\")\n",
    "plot_hist(pd.Series(batch_tokens['ntokens']))"
   ]
  },
  {
   "cell_type": "markdown",
   "metadata": {
    "application/vnd.databricks.v1+cell": {
     "cellMetadata": {},
     "inputWidgets": {},
     "nuid": "0be150ab-aad3-4e8e-8d44-532174104582",
     "showTitle": false,
     "title": ""
    }
   },
   "source": [
    "## Continued pretraining"
   ]
  },
  {
   "cell_type": "markdown",
   "metadata": {
    "application/vnd.databricks.v1+cell": {
     "cellMetadata": {},
     "inputWidgets": {},
     "nuid": "4900b97a-16cf-45b5-ad9c-d9b3408b78f8",
     "showTitle": false,
     "title": ""
    }
   },
   "source": [
    "### Continued pretraining API arguments configuration\n",
    "\n",
    "Similar to instruction finetuning, you need to specify the following:\n",
    "\n",
    "**Foundation Model Training API arguments (FMT_API_args):**\n",
    "\n",
    "- model: Specifies the model to be used for training. E.g., 'EleutherAI/gpt-neox-20b'\n",
    "- train_data_path: The path to the training data. We currently only support a (remote/local) path to a collection of .txt files.\n",
    "- task_type: Defines the type of task for which the training strategy will be applied. It is either 'INSTRUCTION_FINETUNE' or 'CONTINUED_PRETRAIN'.\n",
    "- training_duration: The duration of the training process, expressed in numerical terms (e.g., 3) with units of training epochs.\n",
    "- context_length: Specifies the context length of the model, set to 2048. This determines how many tokens the model considers for each training example. For Continued Pretraining, we concatenate tokens to form samples of length equal to context_length\n",
    "\n",
    "**Temporary data path configuration:**\n",
    "\n",
    "- temporary_mds_output_path: Defines a filesystem path where notebook running data can be stored. You need to make sure the path should not be shared by other users on the cluster, as it costs contention. For example, you can make it distinguishable by adding your username to the path.\n",
    "\n",
    "**[Models supported by Foundation Model Training API](https://docs.mosaicml.com/projects/mcli/en/latest/finetuning/finetuning.html#supported-models):**. \n",
    "\n",
    "You need to specify context length based on the model mapping below.\n",
    "```\n",
    "ft_models = {\n",
    "  'meta-llama/Llama-2-13b-hf': 4096,\n",
    "  'meta-llama/Llama-2-7b-hf': 4096,\n",
    "  'meta-llama/Llama-2-70b-hf': 4096,\n",
    "  'codellama/CodeLlama-7b-hf': 16384,\n",
    "  'codellama/CodeLlama-13b-hf': 16384,\n",
    "  'codellama/CodeLlama-34b-hf': 16384,\n",
    "  'mistralai/Mistral-7B-v0.1': 32768,\n",
    "}\n",
    "```"
   ]
  },
  {
   "cell_type": "code",
   "execution_count": null,
   "metadata": {
    "application/vnd.databricks.v1+cell": {
     "cellMetadata": {},
     "inputWidgets": {},
     "nuid": "ba7e46ec-d7a8-443a-a2a4-39f160f782ad",
     "showTitle": false,
     "title": ""
    }
   },
   "outputs": [],
   "source": [
    "FMT_API_args = Namespace(\n",
    "    model= 'meta-llama/Llama-2-7b-chat-hf',\n",
    "    train_data_path= os.path.join(home, 'ABT'), # this is the path to your collection of txt files\n",
    "    task_type='CONTINUED_PRETRAIN',\n",
    "    training_duration=3,\n",
    "    context_length=8,\n",
    ")\n",
    "temporary_mds_output_path = os.path.join(home, 'mds_data_11Jan24_5')"
   ]
  },
  {
   "cell_type": "markdown",
   "metadata": {
    "application/vnd.databricks.v1+cell": {
     "cellMetadata": {},
     "inputWidgets": {},
     "nuid": "948dc8f2-07fb-48ba-a9a3-0e891163d42a",
     "showTitle": false,
     "title": ""
    }
   },
   "source": [
    "Generate a synthetic dataset. Replace `train_data_path` with your raw data path."
   ]
  },
  {
   "cell_type": "code",
   "execution_count": null,
   "metadata": {
    "application/vnd.databricks.v1+cell": {
     "cellMetadata": {},
     "inputWidgets": {},
     "nuid": "53b1e38a-c951-48f8-854d-aae61e455009",
     "showTitle": false,
     "title": ""
    }
   },
   "outputs": [],
   "source": [
    "def generate_synthetic_dataset(folder_path, num_files=128):\n",
    "    \"\"\"Generate a synthetic dataset of text files with random words.\"\"\"\n",
    "    def generate_random_words(num_words=50):\n",
    "        words = [\"apple\", \"banana\", \"cherry\", \"date\", \"elderberry\", \"fig\", \"grape\", \"honeydew\", \"kiwi\", \"lemon\", \"mango\", \"nectarine\", \"orange\", \"papaya\", \"quince\", \"raspberry\", \"strawberry\", \"tangerine\", \"ugli\", \"vanilla\", \"watermelon\", \"xigua\", \"yam\", \"zucchini\"]\n",
    "        return ' '.join(random.choice(words) for _ in range(num_words))\n",
    "\n",
    "    if not os.path.exists(folder_path):\n",
    "        os.makedirs(folder_path)\n",
    "    \n",
    "    for i in range(num_files):\n",
    "        file_path = os.path.join(folder_path, f\"file_{i}.txt\")\n",
    "        with open(file_path, 'w') as file:\n",
    "            file.write(generate_random_words())\n",
    "\n",
    "    print(f\"Generated {num_files} files in '{folder_path}'.\")\n",
    "\n",
    "generate_synthetic_dataset(FMMT_API_args.train_data_path)"
   ]
  },
  {
   "cell_type": "code",
   "execution_count": null,
   "metadata": {
    "application/vnd.databricks.v1+cell": {
     "cellMetadata": {},
     "inputWidgets": {},
     "nuid": "ea879f87-b34a-4ad9-aa4f-9860aa3d9463",
     "showTitle": false,
     "title": ""
    }
   },
   "outputs": [],
   "source": [
    "!rm -rf {temporary_mds_output_path}"
   ]
  },
  {
   "cell_type": "markdown",
   "metadata": {
    "application/vnd.databricks.v1+cell": {
     "cellMetadata": {},
     "inputWidgets": {},
     "nuid": "baf7c43e-66dd-4f26-bbe4-92fabf26a48c",
     "showTitle": false,
     "title": ""
    }
   },
   "source": [
    "### Ingestion, tokenization, and materialization\n",
    "\n",
    "Continued pretraining takes a folder of .txt files as input. It tokenizes the text fields and materializes as a streaming dataset of MDS format. \n",
    "\n",
    "The Foundation Model Training API uses [llmfoundry/scripts/data_prep/convert_text_to_mds.py](https://github.com/mosaicml/llm-foundry/blob/main/scripts/data_prep/convert_text_to_mds.py) to download all the txt files and convert them to MDS. \n",
    "\n",
    "In this notebook, we provide two additional approaches using Spark and Dask. \n",
    "\n",
    "**Important** Continued pretraining datasets are often much larger than instruction fine-tuning, so the tokenization and materialization can be very time consuming. "
   ]
  },
  {
   "cell_type": "code",
   "execution_count": null,
   "metadata": {
    "application/vnd.databricks.v1+cell": {
     "cellMetadata": {},
     "inputWidgets": {},
     "nuid": "41644e86-4214-4ac3-af76-b5f0e5912c1c",
     "showTitle": false,
     "title": ""
    }
   },
   "outputs": [],
   "source": [
    "import os\n",
    "os.makedirs(temporary_mds_output_path, exist_ok=True)"
   ]
  },
  {
   "cell_type": "code",
   "execution_count": null,
   "metadata": {
    "application/vnd.databricks.v1+cell": {
     "cellMetadata": {},
     "inputWidgets": {},
     "nuid": "9a75ad40-f8f9-4817-955b-2d7d9b7c7988",
     "showTitle": false,
     "title": ""
    }
   },
   "outputs": [],
   "source": [
    "cfg, tokenizer = create_om_cfg(FMT_API_args)\n",
    "\n",
    "input_folder = FMT_API_args.train_data_path\n",
    "output_folder = temporary_mds_output_path\n",
    "concat_tokens = FMT_API_args.context_length\n",
    "tokenizer_name = FMT_API_args.model\n",
    "\n",
    "# Run convert_text_to_mds.py and dump MDS dataset to \"save_folder\"\n",
    "args = parse_args(tokenizer_name, concat_tokens, output_folder, input_folder)\n",
    "\n",
    "args.processes = 2\n",
    "args.reprocess = True\n",
    "\n",
    "n_samples = convert_text_to_mds(tokenizer_name=args.tokenizer,\n",
    "                                                  output_folder=args.output_folder,\n",
    "                                                  input_folder=args.input_folder,\n",
    "                                                  concat_tokens=args.concat_tokens,\n",
    "                                                  eos_text=args.eos_text,\n",
    "                                                  bos_text=args.bos_text,\n",
    "                                                  no_wrap=args.no_wrap,\n",
    "                                                  compression=args.compression,\n",
    "                                                  processes=args.processes,\n",
    "                                                  reprocess=args.reprocess,\n",
    "                                                  args_str=_args_str(args))\n",
    "\n",
    "n_billing_tokens_in_dataset = n_samples * concat_tokens"
   ]
  },
  {
   "cell_type": "markdown",
   "metadata": {
    "application/vnd.databricks.v1+cell": {
     "cellMetadata": {},
     "inputWidgets": {},
     "nuid": "ddb47681-8a9b-4431-abc9-6d9d6509ff59",
     "showTitle": false,
     "title": ""
    }
   },
   "source": [
    "### Token estimation"
   ]
  },
  {
   "cell_type": "code",
   "execution_count": null,
   "metadata": {
    "application/vnd.databricks.v1+cell": {
     "cellMetadata": {},
     "inputWidgets": {},
     "nuid": "f93b75ca-0b02-4455-945a-bcc809bab1a8",
     "showTitle": false,
     "title": ""
    }
   },
   "outputs": [],
   "source": [
    "MAX_TOKENS_PER_EXAMPLE = FMT_API_args.context_length if FMT_API_args.context_length is not None else 4096\n",
    "TARGET_EPOCHS = FMT_API_args.training_duration if FMT_API_args.training_duration is not None else 1 \n",
    "n_epochs = TARGET_EPOCHS\n",
    "\n",
    "print(f\"Dataset has ~{n_billing_tokens_in_dataset} tokens that will be charged for during training\")\n",
    "print(f\"By default, you'll train for {n_epochs} epochs on this dataset\")\n",
    "print(f\"By default, ~{n_epochs * n_billing_tokens_in_dataset} tokens will be used in training\")"
   ]
  }
 ],
 "metadata": {
  "application/vnd.databricks.v1+notebook": {
   "dashboards": [],
   "environmentMetadata": null,
   "language": "python",
   "notebookMetadata": {
    "pythonIndentUnit": 2
   },
   "notebookName": "validate-data-estimate-tokens",
   "widgets": {}
  },
  "kernelspec": {
   "display_name": "llmfoundry-venv",
   "language": "python",
   "name": "python3"
  },
  "language_info": {
   "name": "python",
   "version": "3.10.13"
  }
 },
 "nbformat": 4,
 "nbformat_minor": 0
}
